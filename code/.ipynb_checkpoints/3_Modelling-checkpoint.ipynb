{
 "cells": [
  {
   "cell_type": "code",
   "execution_count": 1,
   "metadata": {},
   "outputs": [],
   "source": [
    "# ! pip install imblearn"
   ]
  },
  {
   "cell_type": "code",
   "execution_count": 2,
   "metadata": {
    "cell_id": "00000-27b12978-dedb-4ff2-a71f-0f5d06daab17",
    "deepnote_cell_type": "code",
    "deepnote_to_be_reexecuted": false,
    "execution_millis": 1852,
    "execution_start": 1620108689233,
    "source_hash": "22e8ecc5",
    "tags": []
   },
   "outputs": [],
   "source": [
    "# Import libs\n",
    "import numpy as np\n",
    "import pandas as pd\n",
    "import matplotlib.pyplot as plt\n",
    "import seaborn as sns\n",
    "\n",
    "#Import ML libs\n",
    "from sklearn.model_selection import train_test_split, GridSearchCV\n",
    "from sklearn.linear_model import LogisticRegression\n",
    "from sklearn.metrics import confusion_matrix, plot_confusion_matrix, plot_roc_curve, f1_score, plot_precision_recall_curve, recall_score, precision_score\n",
    "from sklearn.preprocessing import StandardScaler\n",
    "from sklearn.ensemble import RandomForestClassifier\n",
    "from sklearn.neighbors import KNeighborsClassifier\n",
    "\n",
    "#import bootstrap libs\n",
    "from imblearn.over_sampling import SMOTE\n",
    "from imblearn.pipeline import make_pipeline, Pipeline\n",
    "\n",
    "#dummy classifier\n",
    "from sklearn.model_selection import cross_validate\n",
    "from sklearn.dummy import DummyClassifier"
   ]
  },
  {
   "cell_type": "code",
   "execution_count": 3,
   "metadata": {
    "cell_id": "00001-9a7a9497-2672-4987-91d9-04da3db2ce39",
    "deepnote_cell_type": "code",
    "deepnote_to_be_reexecuted": false,
    "execution_millis": 223,
    "execution_start": 1620111981694,
    "source_hash": "b5552fe9",
    "tags": []
   },
   "outputs": [],
   "source": [
    "# Load data\n",
    "train_merged = pd.read_csv('../data/train_merged.csv')\n",
    "test_merged = pd.read_csv('../data/test_merged.csv')\n",
    "pd.set_option('display.max_columns',99)"
   ]
  },
  {
   "cell_type": "code",
   "execution_count": 4,
   "metadata": {
    "cell_id": "00003-49ad6762-ef62-436e-88ad-ed593dac356f",
    "deepnote_cell_type": "code",
    "deepnote_to_be_reexecuted": false,
    "execution_millis": 55,
    "execution_start": 1620108691155,
    "source_hash": "d0a76872",
    "tags": []
   },
   "outputs": [
    {
     "data": {
      "text/html": [
       "<div>\n",
       "<style scoped>\n",
       "    .dataframe tbody tr th:only-of-type {\n",
       "        vertical-align: middle;\n",
       "    }\n",
       "\n",
       "    .dataframe tbody tr th {\n",
       "        vertical-align: top;\n",
       "    }\n",
       "\n",
       "    .dataframe thead th {\n",
       "        text-align: right;\n",
       "    }\n",
       "</style>\n",
       "<table border=\"1\" class=\"dataframe\">\n",
       "  <thead>\n",
       "    <tr style=\"text-align: right;\">\n",
       "      <th></th>\n",
       "      <th>date</th>\n",
       "      <th>block</th>\n",
       "      <th>latitude</th>\n",
       "      <th>longitude</th>\n",
       "      <th>nummosquitos</th>\n",
       "      <th>wnvpresent</th>\n",
       "      <th>street_  W ARMITAGE AVENUE</th>\n",
       "      <th>street_ E 105TH ST</th>\n",
       "      <th>street_ E 111TH ST</th>\n",
       "      <th>street_ E 115TH ST</th>\n",
       "      <th>street_ E 118TH ST</th>\n",
       "      <th>street_ E 130TH ST</th>\n",
       "      <th>street_ E 138TH ST</th>\n",
       "      <th>street_ E 67TH ST</th>\n",
       "      <th>street_ E 91ST PL</th>\n",
       "      <th>street_ E 91ST ST</th>\n",
       "      <th>street_ E RANDOLPH ST</th>\n",
       "      <th>street_ N ASHLAND AVE</th>\n",
       "      <th>street_ N ASHLAND AVE OVERPASS</th>\n",
       "      <th>street_ N AUSTIN AVE</th>\n",
       "      <th>street_ N AVONDALE AVE</th>\n",
       "      <th>street_ N CALIFORNIA AVE</th>\n",
       "      <th>street_ N CAMPBELL AVE</th>\n",
       "      <th>street_ N CANNON DR</th>\n",
       "      <th>street_ N CENTRAL PARK DR</th>\n",
       "      <th>street_ N FRANCISCO AVE</th>\n",
       "      <th>street_ N HARLEM AVE</th>\n",
       "      <th>street_ N HUMBOLDT DR</th>\n",
       "      <th>street_ N KEDVALE AVE</th>\n",
       "      <th>street_ N LARAMIE AVE</th>\n",
       "      <th>street_ N LAWLER AVE</th>\n",
       "      <th>street_ N LEMONT AVE</th>\n",
       "      <th>street_ N LONG AVE</th>\n",
       "      <th>street_ N MANDELL AVE</th>\n",
       "      <th>street_ N MCCLELLAN AVE</th>\n",
       "      <th>street_ N MILWAUKEE AVE</th>\n",
       "      <th>street_ N MONT CLARE AVE</th>\n",
       "      <th>street_ N MOSELL AVE</th>\n",
       "      <th>street_ N OAK PARK AVE</th>\n",
       "      <th>street_ N OAKLEY AVE</th>\n",
       "      <th>street_ N OKETO AVE</th>\n",
       "      <th>street_ N PITTSBURGH AVE</th>\n",
       "      <th>street_ N PULASKI RD</th>\n",
       "      <th>street_ N RICHMOND ST</th>\n",
       "      <th>street_ N RIDGE AVE</th>\n",
       "      <th>street_ N RUTHERFORD AVE</th>\n",
       "      <th>street_ N SPRINGFIELD AVE</th>\n",
       "      <th>street_ N STAVE ST</th>\n",
       "      <th>street_ N STREETER DR</th>\n",
       "      <th>...</th>\n",
       "      <th>dewpoint</th>\n",
       "      <th>wetbulb</th>\n",
       "      <th>heat</th>\n",
       "      <th>cool</th>\n",
       "      <th>preciptotal</th>\n",
       "      <th>stnpressure</th>\n",
       "      <th>sealevel</th>\n",
       "      <th>resultspeed</th>\n",
       "      <th>resultdir</th>\n",
       "      <th>avgspeed</th>\n",
       "      <th>daylightmins</th>\n",
       "      <th>tminsq</th>\n",
       "      <th>tmaxsq</th>\n",
       "      <th>tavgsq</th>\n",
       "      <th>departsq</th>\n",
       "      <th>wetbulbsq</th>\n",
       "      <th>heatsq</th>\n",
       "      <th>coolsq</th>\n",
       "      <th>preciptotalsq</th>\n",
       "      <th>resultspeedsq</th>\n",
       "      <th>resultdirsq</th>\n",
       "      <th>avgspeedsq</th>\n",
       "      <th>stnpressuresq</th>\n",
       "      <th>sealevelsq</th>\n",
       "      <th>daylightminssq</th>\n",
       "      <th>tmin_sma_3</th>\n",
       "      <th>tmax_sma_3</th>\n",
       "      <th>tavg_sma_3</th>\n",
       "      <th>tmin_sma_7</th>\n",
       "      <th>tmax_sma_7</th>\n",
       "      <th>tavg_sma_7</th>\n",
       "      <th>daylightmin_sma_3</th>\n",
       "      <th>daylightmin_sma_7</th>\n",
       "      <th>avgspeed_sma_3</th>\n",
       "      <th>avgspeed_sma_7</th>\n",
       "      <th>resultspeed_sma_3</th>\n",
       "      <th>resultspeed_sma_7</th>\n",
       "      <th>stnpressure_sma_3</th>\n",
       "      <th>stnpressure_sma_7</th>\n",
       "      <th>heat_sma_3</th>\n",
       "      <th>heat_sma_7</th>\n",
       "      <th>cool_sma_3</th>\n",
       "      <th>cool_sma_7</th>\n",
       "      <th>wetbulb_sma_3</th>\n",
       "      <th>wetbulb_sma_7</th>\n",
       "      <th>species_CULEX PIPIENS</th>\n",
       "      <th>species_CULEX PIPIENS/RESTUANS</th>\n",
       "      <th>species_CULEX RESTUANS</th>\n",
       "      <th>species_OTHERS</th>\n",
       "    </tr>\n",
       "  </thead>\n",
       "  <tbody>\n",
       "    <tr>\n",
       "      <th>0</th>\n",
       "      <td>2007-05-29</td>\n",
       "      <td>41</td>\n",
       "      <td>41.95469</td>\n",
       "      <td>-87.800991</td>\n",
       "      <td>1</td>\n",
       "      <td>0</td>\n",
       "      <td>0</td>\n",
       "      <td>0</td>\n",
       "      <td>0</td>\n",
       "      <td>0</td>\n",
       "      <td>0</td>\n",
       "      <td>0</td>\n",
       "      <td>0</td>\n",
       "      <td>0</td>\n",
       "      <td>0</td>\n",
       "      <td>0</td>\n",
       "      <td>0</td>\n",
       "      <td>0</td>\n",
       "      <td>0</td>\n",
       "      <td>0</td>\n",
       "      <td>0</td>\n",
       "      <td>0</td>\n",
       "      <td>0</td>\n",
       "      <td>0</td>\n",
       "      <td>0</td>\n",
       "      <td>0</td>\n",
       "      <td>0</td>\n",
       "      <td>0</td>\n",
       "      <td>0</td>\n",
       "      <td>0</td>\n",
       "      <td>0</td>\n",
       "      <td>0</td>\n",
       "      <td>0</td>\n",
       "      <td>0</td>\n",
       "      <td>0</td>\n",
       "      <td>0</td>\n",
       "      <td>0</td>\n",
       "      <td>0</td>\n",
       "      <td>1</td>\n",
       "      <td>0</td>\n",
       "      <td>0</td>\n",
       "      <td>0</td>\n",
       "      <td>0</td>\n",
       "      <td>0</td>\n",
       "      <td>0</td>\n",
       "      <td>0</td>\n",
       "      <td>0</td>\n",
       "      <td>0</td>\n",
       "      <td>0</td>\n",
       "      <td>...</td>\n",
       "      <td>58.0</td>\n",
       "      <td>65.0</td>\n",
       "      <td>0.0</td>\n",
       "      <td>9.0</td>\n",
       "      <td>0.0</td>\n",
       "      <td>29.39</td>\n",
       "      <td>30.11</td>\n",
       "      <td>5.8</td>\n",
       "      <td>18.0</td>\n",
       "      <td>6.5</td>\n",
       "      <td>896.0</td>\n",
       "      <td>3600.0</td>\n",
       "      <td>7744.0</td>\n",
       "      <td>5476.0</td>\n",
       "      <td>100.0</td>\n",
       "      <td>4225.0</td>\n",
       "      <td>0.0</td>\n",
       "      <td>81.0</td>\n",
       "      <td>0.0</td>\n",
       "      <td>33.64</td>\n",
       "      <td>324.0</td>\n",
       "      <td>42.25</td>\n",
       "      <td>863.7721</td>\n",
       "      <td>906.6121</td>\n",
       "      <td>802816.0</td>\n",
       "      <td>54.666667</td>\n",
       "      <td>81.0</td>\n",
       "      <td>68.0</td>\n",
       "      <td>54.142857</td>\n",
       "      <td>75.428571</td>\n",
       "      <td>64.857143</td>\n",
       "      <td>895.333333</td>\n",
       "      <td>894.285714</td>\n",
       "      <td>5.666667</td>\n",
       "      <td>7.242857</td>\n",
       "      <td>5.1</td>\n",
       "      <td>5.385714</td>\n",
       "      <td>29.436667</td>\n",
       "      <td>29.405714</td>\n",
       "      <td>0.0</td>\n",
       "      <td>1.857143</td>\n",
       "      <td>3.0</td>\n",
       "      <td>1.714286</td>\n",
       "      <td>59.333333</td>\n",
       "      <td>57.714286</td>\n",
       "      <td>0</td>\n",
       "      <td>1</td>\n",
       "      <td>0</td>\n",
       "      <td>0</td>\n",
       "    </tr>\n",
       "  </tbody>\n",
       "</table>\n",
       "<p>1 rows × 187 columns</p>\n",
       "</div>"
      ],
      "text/plain": [
       "         date  block  latitude  longitude  nummosquitos  wnvpresent  \\\n",
       "0  2007-05-29     41  41.95469 -87.800991             1           0   \n",
       "\n",
       "   street_  W ARMITAGE AVENUE  street_ E 105TH ST  street_ E 111TH ST  \\\n",
       "0                           0                   0                   0   \n",
       "\n",
       "   street_ E 115TH ST  street_ E 118TH ST  street_ E 130TH ST  \\\n",
       "0                   0                   0                   0   \n",
       "\n",
       "   street_ E 138TH ST  street_ E 67TH ST  street_ E 91ST PL  \\\n",
       "0                   0                  0                  0   \n",
       "\n",
       "   street_ E 91ST ST  street_ E RANDOLPH ST  street_ N ASHLAND AVE  \\\n",
       "0                  0                      0                      0   \n",
       "\n",
       "   street_ N ASHLAND AVE OVERPASS  street_ N AUSTIN AVE  \\\n",
       "0                               0                     0   \n",
       "\n",
       "   street_ N AVONDALE AVE  street_ N CALIFORNIA AVE  street_ N CAMPBELL AVE  \\\n",
       "0                       0                         0                       0   \n",
       "\n",
       "   street_ N CANNON DR  street_ N CENTRAL PARK DR  street_ N FRANCISCO AVE  \\\n",
       "0                    0                          0                        0   \n",
       "\n",
       "   street_ N HARLEM AVE  street_ N HUMBOLDT DR  street_ N KEDVALE AVE  \\\n",
       "0                     0                      0                      0   \n",
       "\n",
       "   street_ N LARAMIE AVE  street_ N LAWLER AVE  street_ N LEMONT AVE  \\\n",
       "0                      0                     0                     0   \n",
       "\n",
       "   street_ N LONG AVE  street_ N MANDELL AVE  street_ N MCCLELLAN AVE  \\\n",
       "0                   0                      0                        0   \n",
       "\n",
       "   street_ N MILWAUKEE AVE  street_ N MONT CLARE AVE  street_ N MOSELL AVE  \\\n",
       "0                        0                         0                     0   \n",
       "\n",
       "   street_ N OAK PARK AVE  street_ N OAKLEY AVE  street_ N OKETO AVE  \\\n",
       "0                       1                     0                    0   \n",
       "\n",
       "   street_ N PITTSBURGH AVE  street_ N PULASKI RD  street_ N RICHMOND ST  \\\n",
       "0                         0                     0                      0   \n",
       "\n",
       "   street_ N RIDGE AVE  street_ N RUTHERFORD AVE  street_ N SPRINGFIELD AVE  \\\n",
       "0                    0                         0                          0   \n",
       "\n",
       "   street_ N STAVE ST  street_ N STREETER DR  ...  dewpoint  wetbulb  heat  \\\n",
       "0                   0                      0  ...      58.0     65.0   0.0   \n",
       "\n",
       "   cool  preciptotal  stnpressure  sealevel  resultspeed  resultdir  avgspeed  \\\n",
       "0   9.0          0.0        29.39     30.11          5.8       18.0       6.5   \n",
       "\n",
       "   daylightmins  tminsq  tmaxsq  tavgsq  departsq  wetbulbsq  heatsq  coolsq  \\\n",
       "0         896.0  3600.0  7744.0  5476.0     100.0     4225.0     0.0    81.0   \n",
       "\n",
       "   preciptotalsq  resultspeedsq  resultdirsq  avgspeedsq  stnpressuresq  \\\n",
       "0            0.0          33.64        324.0       42.25       863.7721   \n",
       "\n",
       "   sealevelsq  daylightminssq  tmin_sma_3  tmax_sma_3  tavg_sma_3  tmin_sma_7  \\\n",
       "0    906.6121        802816.0   54.666667        81.0        68.0   54.142857   \n",
       "\n",
       "   tmax_sma_7  tavg_sma_7  daylightmin_sma_3  daylightmin_sma_7  \\\n",
       "0   75.428571   64.857143         895.333333         894.285714   \n",
       "\n",
       "   avgspeed_sma_3  avgspeed_sma_7  resultspeed_sma_3  resultspeed_sma_7  \\\n",
       "0        5.666667        7.242857                5.1           5.385714   \n",
       "\n",
       "   stnpressure_sma_3  stnpressure_sma_7  heat_sma_3  heat_sma_7  cool_sma_3  \\\n",
       "0          29.436667          29.405714         0.0    1.857143         3.0   \n",
       "\n",
       "   cool_sma_7  wetbulb_sma_3  wetbulb_sma_7  species_CULEX PIPIENS  \\\n",
       "0    1.714286      59.333333      57.714286                      0   \n",
       "\n",
       "   species_CULEX PIPIENS/RESTUANS  species_CULEX RESTUANS  species_OTHERS  \n",
       "0                               1                       0               0  \n",
       "\n",
       "[1 rows x 187 columns]"
      ]
     },
     "execution_count": 4,
     "metadata": {},
     "output_type": "execute_result"
    }
   ],
   "source": [
    "train_merged.head(1)"
   ]
  },
  {
   "cell_type": "markdown",
   "metadata": {
    "cell_id": "00007-6f1b7fc9-106c-4b69-85ee-446ae9802797",
    "deepnote_cell_type": "markdown",
    "tags": []
   },
   "source": [
    "## Baseline Model"
   ]
  },
  {
   "cell_type": "code",
   "execution_count": 5,
   "metadata": {
    "cell_id": "00004-0922afc1-2099-4158-8220-7e413dc1d33d",
    "deepnote_cell_type": "code",
    "deepnote_to_be_reexecuted": false,
    "execution_millis": 0,
    "execution_start": 1620108691229,
    "source_hash": "399887ce",
    "tags": []
   },
   "outputs": [],
   "source": [
    "#define X, y\n",
    "X = train_merged.drop(columns = ['block','wnvpresent','date','nummosquitos','stnpressure','stnpressuresq','sealevel','sealevelsq','stnpressure_sma_3','stnpressure_sma_7'])\n",
    "y = train_merged['wnvpresent']"
   ]
  },
  {
   "cell_type": "code",
   "execution_count": 6,
   "metadata": {
    "cell_id": "00007-5b74ed6f-da2c-4ba3-bb0c-cac61b994436",
    "deepnote_cell_type": "code",
    "deepnote_to_be_reexecuted": false,
    "execution_millis": 0,
    "execution_start": 1620108691260,
    "source_hash": "12d3fd1",
    "tags": []
   },
   "outputs": [],
   "source": [
    "baseline = y.value_counts(normalize=True)"
   ]
  },
  {
   "cell_type": "code",
   "execution_count": 7,
   "metadata": {
    "cell_id": "00008-a5cdb131-92cd-4ced-b07c-ec898f8c7556",
    "deepnote_cell_type": "code",
    "deepnote_to_be_reexecuted": false,
    "execution_millis": 7,
    "execution_start": 1620108691261,
    "source_hash": "72908efd",
    "tags": []
   },
   "outputs": [
    {
     "name": "stdout",
     "output_type": "stream",
     "text": [
      "Imbalanced Data Baseline Accuracy: 0.947%\n"
     ]
    }
   ],
   "source": [
    "print(f'Imbalanced Data Baseline Accuracy: {baseline[0].round(3)}%')"
   ]
  },
  {
   "cell_type": "code",
   "execution_count": 8,
   "metadata": {
    "cell_id": "00009-375defac-f4fa-4a52-a5f7-a2ce8e3cc8df",
    "deepnote_cell_type": "code",
    "deepnote_to_be_reexecuted": false,
    "execution_millis": 7,
    "execution_start": 1620108691261,
    "source_hash": "b0f7d906",
    "tags": []
   },
   "outputs": [
    {
     "name": "stdout",
     "output_type": "stream",
     "text": [
      "Balanced Data Baseline Accuracy: 0.5%\n"
     ]
    }
   ],
   "source": [
    "print(f\"Balanced Data Baseline Accuracy: 0.5%\")"
   ]
  },
  {
   "cell_type": "markdown",
   "metadata": {
    "cell_id": "00008-ba58a2f8-2473-482b-8323-c9b7f71e6cb7",
    "deepnote_cell_type": "markdown",
    "tags": []
   },
   "source": [
    "## Train Test Split"
   ]
  },
  {
   "cell_type": "code",
   "execution_count": 9,
   "metadata": {
    "cell_id": "00004-747ed5fe-c4fe-4ef0-9495-06501bfaaba0",
    "deepnote_cell_type": "code",
    "deepnote_to_be_reexecuted": false,
    "execution_millis": 10,
    "execution_start": 1620108691263,
    "source_hash": "9f4fe7f",
    "tags": []
   },
   "outputs": [],
   "source": [
    "#split train test \n",
    "X_train, X_test, y_train, y_test = train_test_split(X,\n",
    "                                                    y,\n",
    "                                                    random_state=42,\n",
    "                                                    stratify=y)"
   ]
  },
  {
   "cell_type": "markdown",
   "metadata": {
    "cell_id": "00022-5d235958-30ad-45c1-ac19-be199c971cb5",
    "deepnote_cell_type": "markdown",
    "tags": []
   },
   "source": [
    "## Pipeline"
   ]
  },
  {
   "cell_type": "markdown",
   "metadata": {
    "cell_id": "00016-1f2ca7a5-1c41-4140-8797-873b7eaca31f",
    "deepnote_cell_type": "markdown",
    "tags": []
   },
   "source": [
    "Pipeline with oversampling bootstrapping (SMOTE). Metric is using ROC-AUC as we are trying to identify the accuracy of the model.\n",
    "\n",
    "In this scenario, the identification of the true cases (WNV Present) to the False Negative (Type II error where predicted to be not present proved to be otherwise) in order to better navigate resources to the location for pesticide control."
   ]
  },
  {
   "cell_type": "markdown",
   "metadata": {
    "cell_id": "00016-3c1d48e9-ca7f-4112-8c07-28807d1c915c",
    "deepnote_cell_type": "text-cell-h3",
    "tags": []
   },
   "source": [
    "### Logistic Regression"
   ]
  },
  {
   "cell_type": "code",
   "execution_count": 10,
   "metadata": {
    "cell_id": "00023-4e1b5f34-4bcd-4007-b093-22991833bca7",
    "deepnote_cell_type": "code",
    "deepnote_to_be_reexecuted": false,
    "execution_millis": 2916,
    "execution_start": 1620108691278,
    "source_hash": "80f652cd",
    "tags": []
   },
   "outputs": [
    {
     "name": "stdout",
     "output_type": "stream",
     "text": [
      "Training Accuracy:  0.7629658086822897\n",
      "Testing Accuracy:  0.7377112135176651\n",
      "\n",
      "\n"
     ]
    },
    {
     "data": {
      "text/plain": [
       "{'logreg__C': 0.01,\n",
       " 'logreg__class_weight': 'balanced',\n",
       " 'logreg__solver': 'liblinear'}"
      ]
     },
     "execution_count": 10,
     "metadata": {},
     "output_type": "execute_result"
    }
   ],
   "source": [
    "#Instantiate pipeline \n",
    "pipe = Pipeline([\n",
    "    ('ss' , StandardScaler()),\n",
    "    ('oversample', SMOTE(random_state=42)),\n",
    "    ('logreg', LogisticRegression(random_state=42, max_iter=10000))\n",
    "])\n",
    "\n",
    "#set pipe params\n",
    "pipe_params = {\n",
    "    'logreg__solver' : ['liblinear','lbfgs'],\n",
    "    'logreg__C': np.logspace(-2, 1, 1),\n",
    "    'logreg__class_weight':[\"balanced\",]\n",
    "}\n",
    "\n",
    "#gridsearch\n",
    "gs = GridSearchCV(pipe, pipe_params,  cv=5,n_jobs=-1, scoring='roc_auc')\n",
    "#fit model\n",
    "gs.fit(X_train, y_train)\n",
    "best_logreg = gs.best_estimator_\n",
    "\n",
    "print('Training Accuracy: ', best_logreg.score(X_train, y_train))\n",
    "print('Testing Accuracy: ', best_logreg.score(X_test, y_test))\n",
    "print('\\n')\n",
    "gs.best_params_"
   ]
  },
  {
   "cell_type": "markdown",
   "metadata": {
    "cell_id": "00020-fb0645f7-e74d-45b7-b525-888fabbd66ad",
    "deepnote_cell_type": "text-cell-h3",
    "tags": []
   },
   "source": [
    "### K Nearest Neighbours"
   ]
  },
  {
   "cell_type": "code",
   "execution_count": 11,
   "metadata": {
    "cell_id": "00018-eedcf37e-12c4-456c-8b20-b5edad0b0c7c",
    "deepnote_cell_type": "code",
    "deepnote_to_be_reexecuted": false,
    "execution_millis": 36028,
    "execution_start": 1620108694196,
    "source_hash": "c6398117",
    "tags": []
   },
   "outputs": [
    {
     "name": "stdout",
     "output_type": "stream",
     "text": [
      "Training Accuracy:  0.8873095146625688\n",
      "Testing Accuracy:  0.8383256528417818\n",
      "\n",
      "\n"
     ]
    },
    {
     "data": {
      "text/plain": [
       "{'knn__n_neighbors': 10, 'knn__p': 1, 'knn__weights': 'uniform'}"
      ]
     },
     "execution_count": 11,
     "metadata": {},
     "output_type": "execute_result"
    }
   ],
   "source": [
    "#Instantiate pipeline\n",
    "pipe = Pipeline([\n",
    "    ('ss' , StandardScaler()),\n",
    "    ('oversample', SMOTE(random_state=42)),\n",
    "    ('knn', KNeighborsClassifier())\n",
    "])\n",
    "\n",
    "#set pipe params\n",
    "pipe_params = {\n",
    "    'knn__n_neighbors' : [3,5,7,10],\n",
    "    'knn__weights' : ['uniform','distance'],\n",
    "    'knn__p': [1,2]\n",
    "}\n",
    "#grid search\n",
    "gs = GridSearchCV(pipe, pipe_params, cv=5 ,n_jobs=-1, scoring='roc_auc')\n",
    "#fit model\n",
    "gs.fit(X_train, y_train)\n",
    "best_knn = gs.best_estimator_\n",
    "\n",
    "print('Training Accuracy: ', best_knn.score(X_train, y_train))\n",
    "print('Testing Accuracy: ', best_knn.score(X_test, y_test))\n",
    "print('\\n')\n",
    "gs.best_params_"
   ]
  },
  {
   "cell_type": "markdown",
   "metadata": {
    "cell_id": "00021-46c24b74-a626-4066-93f0-3339749b863d",
    "deepnote_cell_type": "text-cell-h3",
    "tags": []
   },
   "source": [
    "### Random Forest"
   ]
  },
  {
   "cell_type": "code",
   "execution_count": 12,
   "metadata": {
    "cell_id": "00021-fd0a2dc5-478a-4e8c-b8d6-e44a07d80c10",
    "deepnote_cell_type": "code",
    "deepnote_to_be_reexecuted": false,
    "execution_millis": 34219,
    "execution_start": 1620111765755,
    "source_hash": "a1f2b08a",
    "tags": []
   },
   "outputs": [
    {
     "name": "stdout",
     "output_type": "stream",
     "text": [
      "Training Accuracy:  0.8792419003713664\n",
      "Testing Accuracy:  0.8732718894009217\n",
      "\n",
      "\n"
     ]
    },
    {
     "data": {
      "text/plain": [
       "{'rf__max_depth': 9, 'rf__n_estimators': 150}"
      ]
     },
     "execution_count": 12,
     "metadata": {},
     "output_type": "execute_result"
    }
   ],
   "source": [
    "#Instantiate pipeline\n",
    "pipe = Pipeline([\n",
    "    ('ss' , StandardScaler()),\n",
    "    ('oversample', SMOTE(random_state=42)),\n",
    "    ('rf', RandomForestClassifier(random_state=42, bootstrap=True))\n",
    "])\n",
    "\n",
    "#set pipe params\n",
    "pipe_params = {\n",
    "    'rf__n_estimators': [100,150,250],\n",
    "    'rf__max_depth': [1,3,9,10]\n",
    "}\n",
    "#grid search\n",
    "gs = GridSearchCV(pipe, pipe_params, cv=5 ,n_jobs=-1, scoring='roc_auc')\n",
    "#fit model\n",
    "gs.fit(X_train, y_train)\n",
    "best_rf = gs.best_estimator_\n",
    "\n",
    "print('Training Accuracy: ', best_rf.score(X_train, y_train))\n",
    "print('Testing Accuracy: ', best_rf.score(X_test, y_test))\n",
    "print('\\n')\n",
    "gs.best_params_"
   ]
  },
  {
   "cell_type": "code",
   "execution_count": 13,
   "metadata": {
    "cell_id": "00019-bc847140-f8a4-4526-93b4-50d7a5a74e04",
    "deepnote_cell_type": "code",
    "deepnote_to_be_reexecuted": false,
    "execution_millis": 3669,
    "execution_start": 1620111364865,
    "source_hash": "b28b0192",
    "tags": []
   },
   "outputs": [
    {
     "data": {
      "text/html": [
       "<div>\n",
       "<style scoped>\n",
       "    .dataframe tbody tr th:only-of-type {\n",
       "        vertical-align: middle;\n",
       "    }\n",
       "\n",
       "    .dataframe tbody tr th {\n",
       "        vertical-align: top;\n",
       "    }\n",
       "\n",
       "    .dataframe thead th {\n",
       "        text-align: right;\n",
       "    }\n",
       "</style>\n",
       "<table border=\"1\" class=\"dataframe\">\n",
       "  <thead>\n",
       "    <tr style=\"text-align: right;\">\n",
       "      <th></th>\n",
       "      <th>Model</th>\n",
       "      <th>Training Accuracy</th>\n",
       "      <th>Test Accuracy</th>\n",
       "    </tr>\n",
       "  </thead>\n",
       "  <tbody>\n",
       "    <tr>\n",
       "      <th>0</th>\n",
       "      <td>Balanced Baseline</td>\n",
       "      <td>0.500000</td>\n",
       "      <td>0.500000</td>\n",
       "    </tr>\n",
       "    <tr>\n",
       "      <th>1</th>\n",
       "      <td>Logistic Regression</td>\n",
       "      <td>0.762966</td>\n",
       "      <td>0.737711</td>\n",
       "    </tr>\n",
       "    <tr>\n",
       "      <th>2</th>\n",
       "      <td>K Nearest Neighbors</td>\n",
       "      <td>0.887310</td>\n",
       "      <td>0.838326</td>\n",
       "    </tr>\n",
       "    <tr>\n",
       "      <th>3</th>\n",
       "      <td>Random Forest</td>\n",
       "      <td>0.879242</td>\n",
       "      <td>0.873272</td>\n",
       "    </tr>\n",
       "  </tbody>\n",
       "</table>\n",
       "</div>"
      ],
      "text/plain": [
       "                 Model  Training Accuracy  Test Accuracy\n",
       "0    Balanced Baseline           0.500000       0.500000\n",
       "1  Logistic Regression           0.762966       0.737711\n",
       "2  K Nearest Neighbors           0.887310       0.838326\n",
       "3        Random Forest           0.879242       0.873272"
      ]
     },
     "execution_count": 13,
     "metadata": {},
     "output_type": "execute_result"
    }
   ],
   "source": [
    "#display result in dataframe\n",
    "model_df = pd.DataFrame({\n",
    "    'Model' :['Balanced Baseline','Logistic Regression','K Nearest Neighbors','Random Forest'],\n",
    "    'Training Accuracy' : [0.5, best_logreg.score(X_train, y_train),best_knn.score(X_train, y_train),best_rf.score(X_train, y_train)],\n",
    "    'Test Accuracy' : [0.5 ,best_logreg.score(X_test, y_test),best_knn.score(X_test, y_test),best_rf.score(X_test, y_test)]\n",
    "})\n",
    "\n",
    "model_df"
   ]
  },
  {
   "cell_type": "markdown",
   "metadata": {
    "cell_id": "00024-fc3362cc-5948-458c-8076-10714c6f7da9",
    "deepnote_cell_type": "text-cell-h2",
    "tags": []
   },
   "source": [
    "## Model Selection"
   ]
  },
  {
   "cell_type": "markdown",
   "metadata": {
    "cell_id": "00025-8e7359c0-a6c4-408e-90b0-38fe39c2f5ce",
    "deepnote_cell_type": "markdown",
    "tags": []
   },
   "source": [
    "Based on the training and test set ROC AUC score, the best model with the best score is using Random Forest Classifier for both training and test set. "
   ]
  },
  {
   "cell_type": "code",
   "execution_count": 14,
   "metadata": {
    "cell_id": "00024-ab7576fe-e182-4f91-b3c6-856f6221356b",
    "deepnote_cell_type": "code",
    "deepnote_to_be_reexecuted": false,
    "execution_millis": 2550,
    "execution_start": 1620111368532,
    "source_hash": "3e0f9509",
    "tags": []
   },
   "outputs": [],
   "source": [
    "#model selection and prediction for validation \n",
    "best_model = best_rf\n",
    "best_model.fit(X_train,y_train)\n",
    "\n",
    "#predict all datasets\n",
    "y_preds = best_model.predict(X)"
   ]
  },
  {
   "cell_type": "code",
   "execution_count": 15,
   "metadata": {
    "cell_id": "00027-c53f404c-95f9-4a45-b6b5-bd8e0c2a79c4",
    "deepnote_cell_type": "code",
    "deepnote_to_be_reexecuted": false,
    "execution_millis": 13,
    "execution_start": 1620111371096,
    "source_hash": "d0e570",
    "tags": []
   },
   "outputs": [
    {
     "data": {
      "text/html": [
       "<div>\n",
       "<style scoped>\n",
       "    .dataframe tbody tr th:only-of-type {\n",
       "        vertical-align: middle;\n",
       "    }\n",
       "\n",
       "    .dataframe tbody tr th {\n",
       "        vertical-align: top;\n",
       "    }\n",
       "\n",
       "    .dataframe thead th {\n",
       "        text-align: right;\n",
       "    }\n",
       "</style>\n",
       "<table border=\"1\" class=\"dataframe\">\n",
       "  <thead>\n",
       "    <tr style=\"text-align: right;\">\n",
       "      <th></th>\n",
       "      <th>true_values</th>\n",
       "      <th>preds_values</th>\n",
       "    </tr>\n",
       "  </thead>\n",
       "  <tbody>\n",
       "    <tr>\n",
       "      <th>0</th>\n",
       "      <td>0</td>\n",
       "      <td>0</td>\n",
       "    </tr>\n",
       "    <tr>\n",
       "      <th>1</th>\n",
       "      <td>0</td>\n",
       "      <td>0</td>\n",
       "    </tr>\n",
       "    <tr>\n",
       "      <th>2</th>\n",
       "      <td>0</td>\n",
       "      <td>0</td>\n",
       "    </tr>\n",
       "    <tr>\n",
       "      <th>3</th>\n",
       "      <td>0</td>\n",
       "      <td>0</td>\n",
       "    </tr>\n",
       "    <tr>\n",
       "      <th>4</th>\n",
       "      <td>0</td>\n",
       "      <td>0</td>\n",
       "    </tr>\n",
       "  </tbody>\n",
       "</table>\n",
       "</div>"
      ],
      "text/plain": [
       "   true_values  preds_values\n",
       "0            0             0\n",
       "1            0             0\n",
       "2            0             0\n",
       "3            0             0\n",
       "4            0             0"
      ]
     },
     "execution_count": 15,
     "metadata": {},
     "output_type": "execute_result"
    }
   ],
   "source": [
    "#compare ytest and prediction\n",
    "pred_df = pd.DataFrame({'true_values': y,\n",
    "                        'preds_values': y_preds})\n",
    "\n",
    "pred_df.head()"
   ]
  },
  {
   "cell_type": "markdown",
   "metadata": {
    "cell_id": "00026-e43391a1-0249-484e-abf3-6f0c0caccced",
    "deepnote_cell_type": "text-cell-h2",
    "tags": []
   },
   "source": [
    "## Model Evaluation"
   ]
  },
  {
   "cell_type": "markdown",
   "metadata": {
    "cell_id": "00030-e4d71331-91fe-455b-b5e7-3ca66197e7d6",
    "deepnote_cell_type": "text-cell-h3",
    "tags": []
   },
   "source": [
    "### Confusion Matrix"
   ]
  },
  {
   "cell_type": "code",
   "execution_count": 16,
   "metadata": {
    "cell_id": "00025-368da4ae-95f4-4d6f-bf2d-14f6b6faaee0",
    "deepnote_cell_type": "code",
    "deepnote_to_be_reexecuted": false,
    "execution_millis": 8,
    "execution_start": 1620111371400,
    "source_hash": "83bebc64",
    "tags": []
   },
   "outputs": [],
   "source": [
    "#plot cm to check for prediction accuracy\n",
    "cm = confusion_matrix(y,y_preds)"
   ]
  },
  {
   "cell_type": "code",
   "execution_count": 17,
   "metadata": {
    "cell_id": "00034-5f17f6f8-af9d-4f68-97f2-b8b3ac585d9a",
    "deepnote_cell_type": "code",
    "deepnote_to_be_reexecuted": false,
    "execution_millis": 9,
    "execution_start": 1620111371413,
    "source_hash": "79fe093b",
    "tags": []
   },
   "outputs": [],
   "source": [
    "tn,fp,fn,tp = confusion_matrix(y, y_preds).ravel()"
   ]
  },
  {
   "cell_type": "code",
   "execution_count": 18,
   "metadata": {
    "cell_id": "00035-2ae50612-538d-4fcb-8e64-9f60ad7cf12e",
    "deepnote_cell_type": "code",
    "deepnote_to_be_reexecuted": false,
    "execution_millis": 10,
    "execution_start": 1620111371436,
    "source_hash": "4c9d26c4",
    "tags": []
   },
   "outputs": [
    {
     "name": "stdout",
     "output_type": "stream",
     "text": [
      "True Negatives: 8833\n",
      "False Positives: 1029\n",
      "False Negatives: 244\n",
      "True Positives: 307\n"
     ]
    }
   ],
   "source": [
    "print(f'True Negatives: {tn}') #predict absent is absent\n",
    "print(f'False Positives: {fp}') #predict present but absent\n",
    "print(f'False Negatives: {fn}') #predict absent but present\n",
    "print(f'True Positives: {tp}') #predict present is present"
   ]
  },
  {
   "cell_type": "code",
   "execution_count": 19,
   "metadata": {
    "cell_id": "00036-e834b631-6ad2-47c4-a354-b2f22f84e80e",
    "deepnote_cell_type": "code",
    "deepnote_to_be_reexecuted": false,
    "execution_millis": 329,
    "execution_start": 1620111371465,
    "source_hash": "92730000",
    "tags": []
   },
   "outputs": [
    {
     "data": {
      "image/png": "[encoded data removed]",
      "text/plain": [
       "<Figure size 576x576 with 2 Axes>"
      ]
     },
     "metadata": {
      "needs_background": "light"
     },
     "output_type": "display_data"
    }
   ],
   "source": [
    "fig, ax = plt.subplots(figsize=(8, 8))\n",
    "plt.rcParams.update({'font.size': 20})\n",
    "plot_confusion_matrix(best_model, X, y, cmap= 'Blues', \n",
    "                  values_format='d', ax=ax );\n",
    "plt.title('Confusion Matrix')\n",
    "plt.savefig('../images/confusion_matrix.png')\n",
    "plt.show()"
   ]
  },
  {
   "cell_type": "markdown",
   "metadata": {
    "cell_id": "00032-e089f54a-2fc7-4417-8e21-31497a8e2f45",
    "deepnote_cell_type": "markdown",
    "tags": []
   },
   "source": [
    "*Confusion matrix plotted for Predicted and True Values for Class 1 (WNV Present) to Class 0 (No WNV Present) demonstrates the specificity and sensitivity of the model.*"
   ]
  },
  {
   "cell_type": "code",
   "execution_count": 20,
   "metadata": {
    "cell_id": "00038-ff0aa253-8031-4d49-991a-6bf380173c99",
    "deepnote_cell_type": "code",
    "deepnote_to_be_reexecuted": false,
    "execution_millis": 2,
    "execution_start": 1620111371785,
    "source_hash": "ec147f4",
    "tags": []
   },
   "outputs": [],
   "source": [
    "#calculate sensitivity specificty and precision\n",
    "sensitivity = tp / (tp + fn)\n",
    "specificity = tn / (tn + fp)\n",
    "precision = tp/(fp+tp)"
   ]
  },
  {
   "cell_type": "code",
   "execution_count": 21,
   "metadata": {
    "cell_id": "00038-4f8b73ca-bf78-4271-bc30-38b78e83ef0d",
    "deepnote_cell_type": "code",
    "deepnote_to_be_reexecuted": false,
    "execution_millis": 18,
    "execution_start": 1620111371791,
    "source_hash": "8dc099c6",
    "tags": []
   },
   "outputs": [
    {
     "name": "stdout",
     "output_type": "stream",
     "text": [
      "Sensitivity:  0.56\n",
      "Specificity:  0.9\n",
      "Precision: 0.23\n"
     ]
    }
   ],
   "source": [
    "print(\"Sensitivity: \", round(sensitivity,2))\n",
    "print(\"Specificity: \", round(specificity,2))\n",
    "print(\"Precision:\", round(precision,2))"
   ]
  },
  {
   "cell_type": "markdown",
   "metadata": {
    "cell_id": "00035-5bda7d5e-0413-4e25-8e24-6250c977664f",
    "deepnote_cell_type": "markdown",
    "tags": []
   },
   "source": [
    "In this problem statement, the concern on the model prediction will be the false negative, also known as Type II error. With specificity/ recall at 0.88, and sensitivity at 0.59 the model is able to identify the true positive rate and true negative rate accordingly.\n",
    "\n",
    "However, the precision score is low at 0.22 only. This means the model has been predicting cases as positive more than it should have been. "
   ]
  },
  {
   "cell_type": "markdown",
   "metadata": {
    "cell_id": "00027-c97efd15-b29f-4059-b233-1647a09fcf0c",
    "deepnote_cell_type": "text-cell-h3",
    "tags": []
   },
   "source": [
    "### ROC AUC"
   ]
  },
  {
   "cell_type": "code",
   "execution_count": 22,
   "metadata": {
    "cell_id": "00039-4d4a5733-e692-4356-b1b9-31e959b01327",
    "deepnote_cell_type": "code",
    "deepnote_to_be_reexecuted": false,
    "execution_millis": 5355099,
    "execution_start": 1620111371801,
    "source_hash": "cab1f83a",
    "tags": []
   },
   "outputs": [
    {
     "name": "stdout",
     "output_type": "stream",
     "text": [
      "True Positive Rate:  0.56\n",
      "True Negative Rate (False Positive Rate) 0.1\n"
     ]
    }
   ],
   "source": [
    "#calculate TPR and TNR\n",
    "TPR = sensitivity\n",
    "print(\"True Positive Rate: \", round(TPR,2))\n",
    "TNR = 1 - specificity\n",
    "print(\"True Negative Rate (False Positive Rate)\", round(TNR,2))"
   ]
  },
  {
   "cell_type": "code",
   "execution_count": 23,
   "metadata": {
    "cell_id": "00024-77953e39-2ec8-4935-95c6-34ad1da7206a",
    "deepnote_cell_type": "code",
    "deepnote_to_be_reexecuted": false,
    "execution_millis": 316,
    "execution_start": 1620111371849,
    "source_hash": "5d04efca",
    "tags": []
   },
   "outputs": [
    {
     "data": {
      "image/png": "[encoded data removed]",
      "text/plain": [
       "<Figure size 720x576 with 1 Axes>"
      ]
     },
     "metadata": {
      "needs_background": "light"
     },
     "output_type": "display_data"
    }
   ],
   "source": [
    "#plot ROC AUC curve for RF model\n",
    "fig, ax = plt.subplots(figsize=(10, 8))\n",
    "plot_roc_curve(best_model,X,y,ax=ax)\n",
    "plt.plot([0,1],[0,1], color='tab:orange', linestyle='--', label='Baseline')\n",
    "\n",
    "plt.title('ROC AUC Curve - Random Forest Model')\n",
    "plt.legend()\n",
    "plt.savefig('../images/ROC_AUC.png')\n",
    "plt.show()"
   ]
  },
  {
   "cell_type": "markdown",
   "metadata": {
    "cell_id": "00044-2594b6ed-a3b7-480c-98d3-35cd371bde3c",
    "deepnote_cell_type": "text-cell-h3",
    "tags": []
   },
   "source": [
    "### Model Threshold Adjustment"
   ]
  },
  {
   "cell_type": "markdown",
   "metadata": {},
   "source": [
    "The model has a huge gap for improvement, in which the existing pipeline only has AUC of 0.87. Hence, we will look into the model prediction to observe the possible threshold changes."
   ]
  },
  {
   "cell_type": "code",
   "execution_count": 24,
   "metadata": {
    "cell_id": "00038-db087641-fdb0-45db-9878-6e108024c74c",
    "deepnote_cell_type": "code",
    "deepnote_to_be_reexecuted": false,
    "execution_millis": 45,
    "execution_start": 1620111372162,
    "source_hash": "73c8f274",
    "tags": []
   },
   "outputs": [
    {
     "data": {
      "text/html": [
       "<div>\n",
       "<style scoped>\n",
       "    .dataframe tbody tr th:only-of-type {\n",
       "        vertical-align: middle;\n",
       "    }\n",
       "\n",
       "    .dataframe tbody tr th {\n",
       "        vertical-align: top;\n",
       "    }\n",
       "\n",
       "    .dataframe thead th {\n",
       "        text-align: right;\n",
       "    }\n",
       "</style>\n",
       "<table border=\"1\" class=\"dataframe\">\n",
       "  <thead>\n",
       "    <tr style=\"text-align: right;\">\n",
       "      <th></th>\n",
       "      <th>true_values</th>\n",
       "      <th>pred_probs</th>\n",
       "    </tr>\n",
       "  </thead>\n",
       "  <tbody>\n",
       "    <tr>\n",
       "      <th>4459</th>\n",
       "      <td>0</td>\n",
       "      <td>0.017419</td>\n",
       "    </tr>\n",
       "    <tr>\n",
       "      <th>4099</th>\n",
       "      <td>0</td>\n",
       "      <td>0.002464</td>\n",
       "    </tr>\n",
       "    <tr>\n",
       "      <th>4423</th>\n",
       "      <td>0</td>\n",
       "      <td>0.011268</td>\n",
       "    </tr>\n",
       "    <tr>\n",
       "      <th>521</th>\n",
       "      <td>0</td>\n",
       "      <td>0.025749</td>\n",
       "    </tr>\n",
       "    <tr>\n",
       "      <th>10393</th>\n",
       "      <td>0</td>\n",
       "      <td>0.410040</td>\n",
       "    </tr>\n",
       "  </tbody>\n",
       "</table>\n",
       "</div>"
      ],
      "text/plain": [
       "       true_values  pred_probs\n",
       "4459             0    0.017419\n",
       "4099             0    0.002464\n",
       "4423             0    0.011268\n",
       "521              0    0.025749\n",
       "10393            0    0.410040"
      ]
     },
     "execution_count": 24,
     "metadata": {},
     "output_type": "execute_result"
    }
   ],
   "source": [
    "#y_test vs predict proba\n",
    "pred_prob_df = pd.DataFrame({'true_values': y_test,\n",
    "                        'pred_probs': best_model.predict_proba(X_test)[:,1]})\n",
    "\n",
    "pred_prob_df.head()"
   ]
  },
  {
   "cell_type": "code",
   "execution_count": 25,
   "metadata": {
    "cell_id": "00038-d332f274-002e-43a4-b704-c81a45bb9898",
    "deepnote_cell_type": "code",
    "deepnote_to_be_reexecuted": false,
    "execution_millis": 1250,
    "execution_start": 1620111372209,
    "source_hash": "71fd5055",
    "tags": []
   },
   "outputs": [
    {
     "data": {
      "image/png": "[encoded data removed]",
      "text/plain": [
       "<Figure size 864x720 with 1 Axes>"
      ]
     },
     "metadata": {
      "needs_background": "light"
     },
     "output_type": "display_data"
    }
   ],
   "source": [
    "plt.figure(figsize = (12, 10))\n",
    "\n",
    "# plot distributions of predicted probabilities by actual values\n",
    "for group in pred_prob_df.groupby('true_values'):\n",
    "    sns.histplot(group[1], kde = False, bins = 100)\n",
    "\n",
    "plt.xlabel('Predicted Probability that Outcome = 1')\n",
    "plt.title('Relationship between Sensitivity and Specificity')\n",
    "plt.ylim(0,200)\n",
    "plt.show()"
   ]
  },
  {
   "cell_type": "markdown",
   "metadata": {},
   "source": [
    "**Observation:** The overlap between the predictions are high and mostly inclined for 0 prediction. "
   ]
  },
  {
   "cell_type": "code",
   "execution_count": 26,
   "metadata": {
    "cell_id": "00038-6b7c73c2-56f0-44b0-a93d-bdea42c5d1b4",
    "deepnote_cell_type": "code",
    "deepnote_to_be_reexecuted": false,
    "execution_millis": 1,
    "execution_start": 1620111373448,
    "source_hash": "e4d72c3e",
    "tags": []
   },
   "outputs": [],
   "source": [
    "#define function to get predictions from probabilities and threshold\n",
    "def get_predictions(probabilities, threshold):\n",
    "    return [0 if prob < threshold else 1 for prob in probabilities]"
   ]
  },
  {
   "cell_type": "code",
   "execution_count": 27,
   "metadata": {
    "cell_id": "00043-3e2afd47-458a-48f7-b8dc-d015a6f2f7ad",
    "deepnote_cell_type": "code",
    "deepnote_to_be_reexecuted": false,
    "execution_millis": 192,
    "execution_start": 1620111373456,
    "source_hash": "9c0e2dff",
    "tags": []
   },
   "outputs": [
    {
     "name": "stdout",
     "output_type": "stream",
     "text": [
      "Threshold: 0.45, Recall: 0.52, Precision: 0.18, f1 : 0.26\n",
      "Threshold: 0.50, Recall: 0.45, Precision: 0.20, f1 : 0.27\n",
      "Threshold: 0.55, Recall: 0.38, Precision: 0.20, f1 : 0.26\n",
      "Threshold: 0.60, Recall: 0.31, Precision: 0.20, f1 : 0.25\n"
     ]
    }
   ],
   "source": [
    "threshold_list = [0.45, 0.5, 0.55, 0.6]\n",
    "#calculate predictions from probabilities and threshold\n",
    "for threshold in threshold_list:\n",
    "    preds = get_predictions(best_model.predict_proba(X_test)[:,1], threshold)\n",
    "    rec = recall_score(y_test, preds)\n",
    "    prec = precision_score(y_test, preds)\n",
    "    f1 = f1_score(y_test, preds)\n",
    "    print(f'Threshold: {threshold:.2f}, Recall: {rec:.2f}, Precision: {prec:.2f}, f1 : {f1:.2f}')"
   ]
  },
  {
   "cell_type": "markdown",
   "metadata": {},
   "source": [
    "The threshold changes does not improve beyond the current model, of 0.22, however take a huge dive in the recall. In this matter, no changes on the threshold will be made on the existing model. "
   ]
  },
  {
   "cell_type": "markdown",
   "metadata": {},
   "source": [
    "### Feature Importance"
   ]
  },
  {
   "cell_type": "code",
   "execution_count": 28,
   "metadata": {
    "cell_id": "00051-93f65323-51ed-4c75-9087-0a36bfd739e6",
    "deepnote_cell_type": "code",
    "deepnote_to_be_reexecuted": false,
    "execution_millis": 12,
    "execution_start": 1620111373650,
    "source_hash": "cbeb1004",
    "tags": []
   },
   "outputs": [
    {
     "data": {
      "text/plain": [
       "Pipeline(steps=[('ss', StandardScaler()),\n",
       "                ('oversample', SMOTE(random_state=42)),\n",
       "                ('rf',\n",
       "                 RandomForestClassifier(max_depth=9, n_estimators=150,\n",
       "                                        random_state=42))])"
      ]
     },
     "execution_count": 28,
     "metadata": {},
     "output_type": "execute_result"
    }
   ],
   "source": [
    "best_rf"
   ]
  },
  {
   "cell_type": "code",
   "execution_count": 29,
   "metadata": {
    "cell_id": "00050-5796a166-a0a3-4f1b-ad51-995be29cda9e",
    "deepnote_cell_type": "code",
    "deepnote_to_be_reexecuted": false,
    "execution_millis": 755,
    "execution_start": 1620111373713,
    "source_hash": "51bf696",
    "tags": []
   },
   "outputs": [
    {
     "data": {
      "text/plain": [
       "RandomForestClassifier(max_depth=15, n_estimators=150)"
      ]
     },
     "execution_count": 29,
     "metadata": {},
     "output_type": "execute_result"
    }
   ],
   "source": [
    "# Extracting feature importances\n",
    "rf = RandomForestClassifier(max_depth=15, n_estimators=150)\n",
    "rf.fit(X_train, y_train)"
   ]
  },
  {
   "cell_type": "code",
   "execution_count": 30,
   "metadata": {
    "cell_id": "00051-3da1865c-f5d3-4085-a498-5a7d675723f2",
    "deepnote_cell_type": "code",
    "deepnote_to_be_reexecuted": false,
    "execution_millis": 24,
    "execution_start": 1620111374465,
    "source_hash": "ff3268ab",
    "tags": []
   },
   "outputs": [
    {
     "data": {
      "text/plain": [
       "array([1.01614452e-01, 1.01109253e-01, 5.05678961e-03, 2.95098659e-03,\n",
       "       7.66162307e-04, 1.43917152e-03, 2.74907045e-03, 5.92307974e-03,\n",
       "       9.30461091e-04, 3.91374363e-03, 3.04340389e-03, 2.44955424e-03,\n",
       "       4.99214709e-06, 2.42227966e-03, 9.34194473e-04, 7.37267050e-04,\n",
       "       1.48221265e-04, 3.55919419e-05, 3.12027865e-03, 4.89606257e-03,\n",
       "       5.84475860e-03, 3.99531940e-03, 5.08366866e-03, 3.45551596e-03,\n",
       "       1.38003696e-03, 7.42573492e-03, 1.99512894e-03, 1.88213089e-03,\n",
       "       1.32613186e-04, 1.96157899e-04, 1.65865705e-03, 1.33747449e-02,\n",
       "       7.82443565e-03, 1.14947572e-02, 1.67238620e-02, 3.10621251e-04,\n",
       "       6.96264497e-03, 8.38068593e-03, 9.49017230e-03, 7.15357634e-05,\n",
       "       6.90420035e-04, 1.38806141e-03, 4.78869217e-03, 1.03296392e-05,\n",
       "       2.99946590e-05, 1.52926103e-05, 6.73858376e-03, 3.01618291e-03,\n",
       "       4.37559835e-03, 1.26779739e-04, 1.99929861e-03, 9.09201216e-04,\n",
       "       2.24229655e-03, 5.51282993e-05, 3.41815392e-03, 3.51818083e-03,\n",
       "       2.58772256e-03, 2.09933320e-03, 5.86069569e-05, 2.85176297e-03,\n",
       "       1.29149772e-03, 4.64604379e-03, 1.56940535e-03, 1.86607937e-03,\n",
       "       0.00000000e+00, 5.16258722e-04, 2.91298248e-03, 2.09381171e-03,\n",
       "       4.80435762e-03, 9.41094248e-03, 5.79436285e-06, 3.02075169e-04,\n",
       "       7.61939015e-05, 1.19105016e-03, 2.98316613e-04, 2.48299267e-03,\n",
       "       9.26254909e-04, 2.04836371e-03, 5.77073207e-07, 2.26245926e-03,\n",
       "       1.01140750e-04, 2.77396617e-03, 1.21460089e-05, 7.64695427e-04,\n",
       "       8.58819105e-03, 1.65327023e-03, 9.48324962e-07, 2.28830499e-05,\n",
       "       4.45577080e-03, 5.40207526e-03, 5.80395694e-03, 3.61634577e-03,\n",
       "       2.16498114e-04, 5.39694797e-04, 4.34645781e-05, 3.29240973e-03,\n",
       "       2.02971368e-03, 5.56272187e-03, 6.54408954e-03, 1.88962096e-04,\n",
       "       1.25849977e-03, 3.67105746e-06, 1.75250181e-06, 5.69113332e-03,\n",
       "       3.85826626e-03, 1.36322816e-03, 1.22983301e-04, 1.29066054e-04,\n",
       "       1.78199583e-03, 8.82317817e-04, 3.80410266e-04, 3.16740177e-03,\n",
       "       1.03585390e-02, 2.72499390e-03, 2.41968420e-04, 1.43420816e-04,\n",
       "       7.43683722e-04, 1.81105081e-03, 4.06240062e-03, 1.47727218e-04,\n",
       "       2.61404968e-04, 6.74030122e-04, 3.60073850e-03, 1.75176374e-02,\n",
       "       5.29755146e-06, 3.47243717e-03, 8.19562970e-04, 4.16485222e-03,\n",
       "       1.00833655e-05, 3.99393059e-04, 5.66080789e-03, 6.90034132e-03,\n",
       "       5.30551126e-03, 5.72982560e-03, 5.35799005e-03, 4.92635394e-03,\n",
       "       6.63158220e-04, 5.99698219e-03, 2.42544296e-03, 7.58991326e-03,\n",
       "       6.17199087e-03, 7.29728420e-03, 2.17670231e-02, 6.31821368e-03,\n",
       "       6.47383069e-03, 6.32113915e-03, 4.11231505e-03, 5.24719855e-03,\n",
       "       3.28551556e-04, 4.16351055e-03, 2.51394601e-03, 6.10418230e-03,\n",
       "       6.43215608e-03, 6.25791807e-03, 1.80752028e-02, 8.73624055e-03,\n",
       "       6.96536587e-03, 6.79650411e-03, 9.06215453e-03, 8.48222542e-03,\n",
       "       7.19326889e-03, 1.69797933e-02, 1.73627142e-02, 7.16542501e-03,\n",
       "       7.74025212e-03, 6.78415030e-03, 7.21490802e-03, 8.34178081e-04,\n",
       "       2.41490121e-03, 6.64026119e-03, 6.16870607e-03, 1.16396047e-02,\n",
       "       1.05130687e-02, 4.87950076e-02, 5.90108436e-02, 2.84540073e-02,\n",
       "       3.93946210e-03])"
      ]
     },
     "execution_count": 30,
     "metadata": {},
     "output_type": "execute_result"
    }
   ],
   "source": [
    "rf.feature_importances_"
   ]
  },
  {
   "cell_type": "code",
   "execution_count": 41,
   "metadata": {
    "cell_id": "00052-e7d7d5a2-2bc2-4c15-b1c8-5c2185911f87",
    "deepnote_cell_type": "code",
    "deepnote_to_be_reexecuted": false,
    "execution_millis": 18,
    "execution_start": 1620111374485,
    "source_hash": "f00938a8",
    "tags": []
   },
   "outputs": [],
   "source": [
    "#create df for feature importance\n",
    "df_fi = pd.DataFrame(zip(X.columns, rf.feature_importances_))\n",
    "df_fi = df_fi.rename(columns={df_fi.columns[0]: 'feature',df_fi.columns[1]: 'importance'})\n",
    "df_fi = df_fi.round(5)"
   ]
  },
  {
   "cell_type": "code",
   "execution_count": 45,
   "metadata": {
    "cell_id": "00054-c82ac32f-7179-4c81-b173-0e340c722815",
    "deepnote_cell_type": "code",
    "deepnote_to_be_reexecuted": false,
    "execution_millis": 22,
    "execution_start": 1620112739522,
    "source_hash": "fe2c4fbe",
    "tags": []
   },
   "outputs": [
    {
     "data": {
      "text/html": [
       "<div>\n",
       "<style scoped>\n",
       "    .dataframe tbody tr th:only-of-type {\n",
       "        vertical-align: middle;\n",
       "    }\n",
       "\n",
       "    .dataframe tbody tr th {\n",
       "        vertical-align: top;\n",
       "    }\n",
       "\n",
       "    .dataframe thead th {\n",
       "        text-align: right;\n",
       "    }\n",
       "</style>\n",
       "<table border=\"1\" class=\"dataframe\">\n",
       "  <thead>\n",
       "    <tr style=\"text-align: right;\">\n",
       "      <th></th>\n",
       "      <th>feature</th>\n",
       "      <th>importance</th>\n",
       "    </tr>\n",
       "  </thead>\n",
       "  <tbody>\n",
       "    <tr>\n",
       "      <th>0</th>\n",
       "      <td>latitude</td>\n",
       "      <td>0.10161</td>\n",
       "    </tr>\n",
       "    <tr>\n",
       "      <th>1</th>\n",
       "      <td>longitude</td>\n",
       "      <td>0.10111</td>\n",
       "    </tr>\n",
       "    <tr>\n",
       "      <th>174</th>\n",
       "      <td>species_CULEX PIPIENS/RESTUANS</td>\n",
       "      <td>0.05901</td>\n",
       "    </tr>\n",
       "    <tr>\n",
       "      <th>173</th>\n",
       "      <td>species_CULEX PIPIENS</td>\n",
       "      <td>0.04880</td>\n",
       "    </tr>\n",
       "    <tr>\n",
       "      <th>175</th>\n",
       "      <td>species_CULEX RESTUANS</td>\n",
       "      <td>0.02845</td>\n",
       "    </tr>\n",
       "    <tr>\n",
       "      <th>142</th>\n",
       "      <td>daylightmins</td>\n",
       "      <td>0.02177</td>\n",
       "    </tr>\n",
       "    <tr>\n",
       "      <th>154</th>\n",
       "      <td>daylightminssq</td>\n",
       "      <td>0.01808</td>\n",
       "    </tr>\n",
       "    <tr>\n",
       "      <th>123</th>\n",
       "      <td>street_ W OHARE AIRPORT</td>\n",
       "      <td>0.01752</td>\n",
       "    </tr>\n",
       "    <tr>\n",
       "      <th>162</th>\n",
       "      <td>daylightmin_sma_7</td>\n",
       "      <td>0.01736</td>\n",
       "    </tr>\n",
       "    <tr>\n",
       "      <th>161</th>\n",
       "      <td>daylightmin_sma_3</td>\n",
       "      <td>0.01698</td>\n",
       "    </tr>\n",
       "    <tr>\n",
       "      <th>34</th>\n",
       "      <td>street_ N OAK PARK AVE</td>\n",
       "      <td>0.01672</td>\n",
       "    </tr>\n",
       "    <tr>\n",
       "      <th>31</th>\n",
       "      <td>street_ N MILWAUKEE AVE</td>\n",
       "      <td>0.01337</td>\n",
       "    </tr>\n",
       "    <tr>\n",
       "      <th>171</th>\n",
       "      <td>wetbulb_sma_3</td>\n",
       "      <td>0.01164</td>\n",
       "    </tr>\n",
       "    <tr>\n",
       "      <th>33</th>\n",
       "      <td>street_ N MOSELL AVE</td>\n",
       "      <td>0.01149</td>\n",
       "    </tr>\n",
       "    <tr>\n",
       "      <th>172</th>\n",
       "      <td>wetbulb_sma_7</td>\n",
       "      <td>0.01051</td>\n",
       "    </tr>\n",
       "    <tr>\n",
       "      <th>112</th>\n",
       "      <td>street_ W FULLERTON AVE</td>\n",
       "      <td>0.01036</td>\n",
       "    </tr>\n",
       "    <tr>\n",
       "      <th>38</th>\n",
       "      <td>street_ N PULASKI RD</td>\n",
       "      <td>0.00949</td>\n",
       "    </tr>\n",
       "    <tr>\n",
       "      <th>69</th>\n",
       "      <td>street_ S KOSTNER AVE</td>\n",
       "      <td>0.00941</td>\n",
       "    </tr>\n",
       "    <tr>\n",
       "      <th>158</th>\n",
       "      <td>tmin_sma_7</td>\n",
       "      <td>0.00906</td>\n",
       "    </tr>\n",
       "    <tr>\n",
       "      <th>155</th>\n",
       "      <td>tmin_sma_3</td>\n",
       "      <td>0.00874</td>\n",
       "    </tr>\n",
       "    <tr>\n",
       "      <th>84</th>\n",
       "      <td>street_ S UNION AVE</td>\n",
       "      <td>0.00859</td>\n",
       "    </tr>\n",
       "    <tr>\n",
       "      <th>159</th>\n",
       "      <td>tmax_sma_7</td>\n",
       "      <td>0.00848</td>\n",
       "    </tr>\n",
       "    <tr>\n",
       "      <th>37</th>\n",
       "      <td>street_ N PITTSBURGH AVE</td>\n",
       "      <td>0.00838</td>\n",
       "    </tr>\n",
       "    <tr>\n",
       "      <th>32</th>\n",
       "      <td>street_ N MONT CLARE AVE</td>\n",
       "      <td>0.00782</td>\n",
       "    </tr>\n",
       "    <tr>\n",
       "      <th>164</th>\n",
       "      <td>avgspeed_sma_7</td>\n",
       "      <td>0.00774</td>\n",
       "    </tr>\n",
       "    <tr>\n",
       "      <th>139</th>\n",
       "      <td>resultspeed</td>\n",
       "      <td>0.00759</td>\n",
       "    </tr>\n",
       "    <tr>\n",
       "      <th>25</th>\n",
       "      <td>street_ N LARAMIE AVE</td>\n",
       "      <td>0.00743</td>\n",
       "    </tr>\n",
       "    <tr>\n",
       "      <th>141</th>\n",
       "      <td>avgspeed</td>\n",
       "      <td>0.00730</td>\n",
       "    </tr>\n",
       "    <tr>\n",
       "      <th>166</th>\n",
       "      <td>resultspeed_sma_7</td>\n",
       "      <td>0.00721</td>\n",
       "    </tr>\n",
       "    <tr>\n",
       "      <th>160</th>\n",
       "      <td>tavg_sma_7</td>\n",
       "      <td>0.00719</td>\n",
       "    </tr>\n",
       "  </tbody>\n",
       "</table>\n",
       "</div>"
      ],
      "text/plain": [
       "                            feature  importance\n",
       "0                          latitude     0.10161\n",
       "1                         longitude     0.10111\n",
       "174  species_CULEX PIPIENS/RESTUANS     0.05901\n",
       "173           species_CULEX PIPIENS     0.04880\n",
       "175          species_CULEX RESTUANS     0.02845\n",
       "142                    daylightmins     0.02177\n",
       "154                  daylightminssq     0.01808\n",
       "123         street_ W OHARE AIRPORT     0.01752\n",
       "162               daylightmin_sma_7     0.01736\n",
       "161               daylightmin_sma_3     0.01698\n",
       "34           street_ N OAK PARK AVE     0.01672\n",
       "31          street_ N MILWAUKEE AVE     0.01337\n",
       "171                   wetbulb_sma_3     0.01164\n",
       "33             street_ N MOSELL AVE     0.01149\n",
       "172                   wetbulb_sma_7     0.01051\n",
       "112         street_ W FULLERTON AVE     0.01036\n",
       "38             street_ N PULASKI RD     0.00949\n",
       "69            street_ S KOSTNER AVE     0.00941\n",
       "158                      tmin_sma_7     0.00906\n",
       "155                      tmin_sma_3     0.00874\n",
       "84              street_ S UNION AVE     0.00859\n",
       "159                      tmax_sma_7     0.00848\n",
       "37         street_ N PITTSBURGH AVE     0.00838\n",
       "32         street_ N MONT CLARE AVE     0.00782\n",
       "164                  avgspeed_sma_7     0.00774\n",
       "139                     resultspeed     0.00759\n",
       "25            street_ N LARAMIE AVE     0.00743\n",
       "141                        avgspeed     0.00730\n",
       "166               resultspeed_sma_7     0.00721\n",
       "160                      tavg_sma_7     0.00719"
      ]
     },
     "execution_count": 45,
     "metadata": {},
     "output_type": "execute_result"
    }
   ],
   "source": [
    "#sort features by most important\n",
    "df_fi.sort_values(by = 'importance', ascending = False).head(30)"
   ]
  },
  {
   "cell_type": "markdown",
   "metadata": {},
   "source": [
    "The direct longitude and lattitude and the species are the critical features affecting the presence of WNV. We also observe the daylightmins also affecs the exposure for the mosquitos as well.\n",
    "\n",
    "Other features like the street, we see top two street, Ohare Airport and Oak Park Avenue at the North area of Chicago streets that has higher odds in the exposure of WNV mosquitos.\n",
    "\n",
    "This proves otherwise for the South area (Hamlin Ave, Wallace St, Racine Ave, 85th St, 77th St, Randolph St, Pershing Road, SunnySide Ave, Longwood Road, and Streeter Drive, making these locations WNV-free."
   ]
  },
  {
   "cell_type": "code",
   "execution_count": 34,
   "metadata": {
    "cell_id": "00055-64f453be-92e2-4a75-a0ea-60b9399551de",
    "deepnote_cell_type": "code",
    "deepnote_to_be_reexecuted": false,
    "execution_millis": 2,
    "execution_start": 1620111928990,
    "source_hash": "c8015492",
    "tags": []
   },
   "outputs": [],
   "source": [
    "#prepare test set for fit on model\n",
    "X_test = test_merged[X.columns]"
   ]
  },
  {
   "cell_type": "code",
   "execution_count": 35,
   "metadata": {
    "cell_id": "00056-c3562369-9cfe-4178-ac91-cdfee60056dd",
    "deepnote_cell_type": "code",
    "deepnote_to_be_reexecuted": false,
    "execution_millis": 972,
    "execution_start": 1620111987780,
    "source_hash": "ec3f5488",
    "tags": []
   },
   "outputs": [],
   "source": [
    "#predict wnvpresent for test set using rf model\n",
    "kaggle_score = pd.DataFrame(zip(test_merged.id, gs.predict(X_test)))"
   ]
  },
  {
   "cell_type": "code",
   "execution_count": 36,
   "metadata": {
    "cell_id": "00058-7fc31b74-23ec-43fd-83da-eb036368ddb6",
    "deepnote_cell_type": "code",
    "deepnote_to_be_reexecuted": false,
    "execution_millis": 0,
    "execution_start": 1620112072555,
    "source_hash": "7cea5714",
    "tags": []
   },
   "outputs": [],
   "source": [
    "#rename columns for kaggle score\n",
    "kaggle_score.rename(columns = {0:\"Id\", 1: \"WnvPresent\"}, inplace = True)"
   ]
  },
  {
   "cell_type": "code",
   "execution_count": 37,
   "metadata": {
    "cell_id": "00062-5f5dfb07-5bd1-4d78-b312-b6989d7c234e",
    "deepnote_cell_type": "code",
    "deepnote_to_be_reexecuted": false,
    "execution_millis": 229,
    "execution_start": 1620112211163,
    "source_hash": "955bb5dd",
    "tags": []
   },
   "outputs": [],
   "source": [
    "#save kagglescore to csv for submission\n",
    "kaggle_score.to_csv('../data/best_submission.csv', index= False)"
   ]
  },
  {
   "cell_type": "markdown",
   "metadata": {},
   "source": [
    "## Conclusion"
   ]
  },
  {
   "cell_type": "markdown",
   "metadata": {},
   "source": [
    "Our final model had an AUCROC score of 0.88 on the test set, a 38% improvement from the data.  Locational features were picked out by the model as the most important, followed by the species of mosquito, dominating other weather features that might have predicted mosquito propagation such as temperature and precipitation.\n",
    "\n",
    "However, when predicting WNV in 2008, 2010, 2012 and 2014, there was a significant difference in our accuracy on the test set between our submission score of 0.67 and the leading Kaggle scores of 0.85.  This suggests that our model did not generalise well.  Apart from collating more data, the low score might be due to the following factors:\n",
    "\n",
    "1. Locations of WNV outbreak might have been different in the prediction years.\n",
    "2. Highly imbalanced data set and possibility of spike during even years.\n",
    "3. Use spray data in the model, joined on date of spray, to see if it would have further impact.\n"
   ]
  },
  {
   "cell_type": "markdown",
   "metadata": {},
   "source": [
    "## Recommendations\n",
    "\n",
    "To reduce the spread of WNV, it might be interesting to take a leaf out of other tropical countries such as Singapore, a small city-state with a population of about 5.7 million.  The hot and  humid temperatures means in Singapore mean it is mosquito season all year round.  However, Singapore's National environment Agency  has reduced the number of [dengue cases](https://www.straitstimes.com/singapore/singapores-weekly-dengue-cases-at-lowest-level-this-year-following-historic-outbreak#:~:text=SINGAPORE%20%2D%20Dengue%20cases%20have%20fallen,of%201%2C792%20cases%20in%20July.) through a mixture of education, fogging and bio-engineering.\n",
    "\n",
    "\n",
    "\n",
    "__1. Spray the right areas__\n",
    "As location was the most important factor, it is likely that spray coverage during the mosquito season is one of the key driving factors to curb the spread of WNV.  As could be seen from the EDA, the CDC of Chicagoonly started spraying in 2011, and not all the locations where the virus was present was covered.  \n",
    "\n",
    "More significantly, locations which the model picked out, such as Chicago O'Hare Airport and North Oak Parks Avenue (central/east) of Chicago did not seem to be within the coverage of the spray.  These areas should be prioritised.\n",
    "\n",
    "__1.1 Cost benefit analysis of spraying__\n",
    "\n",
    "The cost of spraying the entire Chicago metropolitan area can be roughly estimated by the following formula:\n",
    "\n",
    "> * `US$700` ([Cost per acre per season](https://www.homeadvisor.com/cost/environmental-safety/mosquito-control/)) * `149,894` ([land area of Chicago metropolitan area]) = US$ 104,925,800\n",
    "\n",
    "The benefits from preventing WNV can be roughly estimated in two parts using the following formula:\n",
    "\n",
    "> * Value of human lives saved = `1` ([Average number of deaths per year from 2007 to 2014](http://www.idph.state.il.us/envhealth/wnvnews.htm)) * `9,100,00` ([value of human life](https://www.nytimes.com/2011/02/17/business/economy/17regulation.html?_r=0&pagewanted=all)) = `US$9,100,000`\n",
    "> * Value of lives improved (by not contracting the virus) = `56.25` ([Average number of people who contract WNV per year from 2007 to 2014](http://www.idph.state.il.us/envhealth/wnvnews.htm)) * `US$272,973` ([Value of human lives improved including cost of treatment, loss of income etc](https://www.npr.org/sections/health-shots/2014/02/11/275262857/the-high-cost-of-treating-people-hospitalized-with-west-nile-virus#:~:text=The%20team%20then%20used%20an,%24678%20million%20to%20%241.01%20billion.)) = `US$15,354,731.25`   \n",
    "> * Total benefits = `US$9.1M` + `US$15.4M` = `US$24.5M`\n",
    "\n",
    "From this data, it can be seen that the cost of spraying the entire Chicago metropolitan area exceed the benefits.  This means that spraying should only be used as a measure of last resort on specific clusters, or when the number of mosquitos caught in the trap are high.\n",
    "\n",
    "\n",
    "__2. Active outreach and monitoring__\n",
    "\n",
    "According to the [WHO](https://www.who.int/news-room/fact-sheets/detail/west-nile-virus#:~:text=West%20Nile%20virus%20can%20cause,disease%20and%20death%20in%20horses.), the most effective method to reduce the transmission rate of the WNV is through source control.  This may include weekly inspection and cleaning of possible breeding sites for mosquitos such as drains, ponds or other places with stagnant water and refuse.\n",
    "\n",
    "For example, the scope of work for mosquito control as espoused by the National Environmental Agency(NEA) in Singapore [include the following](https://www.nea.gov.sg/our-services/pest-control/mosquito-control/mosquito-control-in-condominium-estates):\n",
    "\n",
    "> * Weekly measures to check for mosquito breeding sites in drains, puddles, tree holes, outdoor bins, rooftops and any other containers.\n",
    "> * Fortnightly measures checking roof drainage and gutters in all structures and application of sand granular insecticide in gully traps, manholes and valve chambers\n",
    "\n",
    "In addition, public health educational messages should focus on the protection of individuals or communities against mosquito bites such as through the use of mosquito nets, insect repellants and by avoiding outdoor activity at peak breeding times.\n",
    "\n",
    "\n",
    "__3. Bioengineering__\n",
    "\n",
    "Should WNV concerns remain or if fogging/use of insecticides might not be welcome by the Chicago public, it may be interesting to explore genetic modification or biological engineering to further limit the population of the 2 WNV carrying mosquito species, _C. Pipiens_ and _C. Restauns_.\n",
    "\n",
    "> * Reduce vectors of transmissions and reservoir hosts such as birds, which pass on the WNV virus to mosquitos after feeding.\n",
    "> * Implement Sterile Insect Techniques (SIT) where large numbers of sterile wild male mosquitoes are released in the wild.  However, over time the numbers of the targeted mosquito species will return to normal.\n",
    "> * Male mosquitoes do not bite peopole or animals and mainly feed on nectar.  Therefore, people living in the release area will not be bitten more than normal.\n"
   ]
  }
 ],
 "metadata": {
  "deepnote": {
   "is_reactive": false
  },
  "deepnote_execution_queue": [],
  "deepnote_notebook_id": "20647e11-615c-4378-bbee-19b1cc4ab63d",
  "kernelspec": {
   "display_name": "Python 3",
   "language": "python",
   "name": "python3"
  },
  "language_info": {
   "codemirror_mode": {
    "name": "ipython",
    "version": 3
   },
   "file_extension": ".py",
   "mimetype": "text/x-python",
   "name": "python",
   "nbconvert_exporter": "python",
   "pygments_lexer": "ipython3",
   "version": "3.8.5"
  }
 },
 "nbformat": 4,
 "nbformat_minor": 2
}
